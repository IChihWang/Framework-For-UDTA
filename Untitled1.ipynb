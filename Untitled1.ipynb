{
 "cells": [
  {
   "cell_type": "code",
   "execution_count": 1,
   "metadata": {},
   "outputs": [
    {
     "name": "stdout",
     "output_type": "stream",
     "text": [
      "[[NODE 96, NODE 97, NODE 98], [NODE 99, NODE 100, NODE 101], [NODE 102, NODE 103, NODE 104], [NODE 105, NODE 106, NODE 107], [NODE 108, NODE 109, NODE 110], [NODE 111, NODE 112, NODE 113], [NODE 114, NODE 115, NODE 116], [NODE 117, NODE 118, NODE 119], [NODE 120, NODE 121, NODE 122], [NODE 123, NODE 124, NODE 125], [NODE 126, NODE 127, NODE 128], [NODE 129, NODE 130, NODE 131], [NODE 132, NODE 133, NODE 134], [NODE 135, NODE 136, NODE 137], [NODE 138, NODE 139, NODE 140], [NODE 141, NODE 142, NODE 143]]\n",
      "[[LINK 144, LINK 145, LINK 146], [LINK 147, LINK 148, LINK 149], [LINK 150, LINK 151, LINK 152], [LINK 153, LINK 154, LINK 155], [LINK 156, LINK 157, LINK 158], [LINK 159, LINK 160, LINK 161], [LINK 162, LINK 163, LINK 164], [LINK 165, LINK 166, LINK 167], [LINK 168, LINK 169, LINK 170], [LINK 171, LINK 172, LINK 173], [LINK 174, LINK 175, LINK 176], [LINK 177, LINK 178, LINK 179], [LINK 180, LINK 181, LINK 182], [LINK 183, LINK 184, LINK 185], [LINK 186, LINK 187, LINK 188], [LINK 189, LINK 190, LINK 191], [LINK 192, LINK 193, LINK 194], [LINK 195, LINK 196, LINK 197], [LINK 198, LINK 199, LINK 200], [LINK 201, LINK 202, LINK 203], [LINK 204, LINK 205, LINK 206], [LINK 207, LINK 208, LINK 209], [LINK 210, LINK 211, LINK 212], [LINK 213, LINK 214, LINK 215]]\n"
     ]
    }
   ],
   "source": [
    "# Create a network as following:\n",
    "#         s1  s2\n",
    "#\n",
    "#   s8    i1  i2    s3\n",
    "#   s7    i3  i4    s4\n",
    "#\n",
    "#         s6  s5\n",
    "#\n",
    "# Index of the initersection:\n",
    "#       1\n",
    "#   0   I   2\n",
    "#       3\n",
    "#\n",
    "\n",
    "\n",
    "from miniVnet import MINIVNET\n",
    "\n",
    "\n",
    "if __name__ == '__main__':\n",
    "    my_net = MINIVNET()\n",
    "    \n",
    "    i1 = my_net.addIntersection('I1', 3)\n",
    "    i2 = my_net.addIntersection('I2', 3)\n",
    "    i3 = my_net.addIntersection('I3', 3)\n",
    "    i4 = my_net.addIntersection('I4', 3)\n",
    "    \n",
    "    s1 = my_net.addSink('S1', 3)\n",
    "    s2 = my_net.addSink('S2', 3)\n",
    "    s3 = my_net.addSink('S3', 3)\n",
    "    s4 = my_net.addSink('S4', 3)\n",
    "    s5 = my_net.addSink('S5', 3)\n",
    "    s6 = my_net.addSink('S6', 3)\n",
    "    s7 = my_net.addSink('S7', 3)\n",
    "    s8 = my_net.addSink('S8', 3)\n",
    "    \n",
    "    my_net.connect(i1, 0, s8, 0)\n",
    "    my_net.connect(i1, 1, s1, 0)\n",
    "    my_net.connect(i1, 2, i2, 0)\n",
    "    my_net.connect(i1, 3, i3, 1)\n",
    "    \n",
    "    my_net.connect(i2, 1, s2, 0)\n",
    "    my_net.connect(i2, 2, s3, 0)\n",
    "    my_net.connect(i2, 3, i4, 1)\n",
    "    \n",
    "    my_net.connect(i3, 0, s7, 0)\n",
    "    my_net.connect(i3, 2, i4, 0)\n",
    "    my_net.connect(i3, 3, s6, 0)\n",
    "    \n",
    "    my_net.connect(i4, 2, s4, 0)\n",
    "    my_net.connect(i4, 3, s5, 0)\n",
    "    \n",
    "    my_net.compile()\n",
    "vertex = []\n",
    "edge = []\n",
    "for sink in my_net.sinks:\n",
    "    for node in sink.node_groups:\n",
    "        vertex.append(node)\n",
    "for road in my_net.roads:\n",
    "    for link in road.link_groups:\n",
    "        edge.append(link)\n",
    "\n",
    "print(vertex)\n",
    "print(edge)"
   ]
  },
  {
   "cell_type": "code",
   "execution_count": null,
   "metadata": {},
   "outputs": [],
   "source": []
  }
 ],
 "metadata": {
  "kernelspec": {
   "display_name": "Python 3",
   "language": "python",
   "name": "python3"
  },
  "language_info": {
   "codemirror_mode": {
    "name": "ipython",
    "version": 3
   },
   "file_extension": ".py",
   "mimetype": "text/x-python",
   "name": "python",
   "nbconvert_exporter": "python",
   "pygments_lexer": "ipython3",
   "version": "3.7.6"
  }
 },
 "nbformat": 4,
 "nbformat_minor": 2
}
