{
 "cells": [
  {
   "cell_type": "code",
   "execution_count": 5,
   "metadata": {},
   "outputs": [
    {
     "ename": "AssertionError",
     "evalue": "The miniVnet has been compiled",
     "output_type": "error",
     "traceback": [
      "\u001b[0;31m---------------------------------------------------------------------------\u001b[0m",
      "\u001b[0;31mAssertionError\u001b[0m                            Traceback (most recent call last)",
      "\u001b[0;32m<ipython-input-5-d7f3f96fd64e>\u001b[0m in \u001b[0;36m<module>\u001b[0;34m\u001b[0m\n\u001b[1;32m     35\u001b[0m \u001b[0;34m\u001b[0m\u001b[0m\n\u001b[1;32m     36\u001b[0m     \u001b[0mmy_net\u001b[0m\u001b[0;34m.\u001b[0m\u001b[0mconnect\u001b[0m\u001b[0;34m(\u001b[0m\u001b[0mi1\u001b[0m\u001b[0;34m,\u001b[0m \u001b[0;36m0\u001b[0m\u001b[0;34m,\u001b[0m \u001b[0ms8\u001b[0m\u001b[0;34m,\u001b[0m \u001b[0;36m0\u001b[0m\u001b[0;34m)\u001b[0m\u001b[0;34m\u001b[0m\u001b[0;34m\u001b[0m\u001b[0m\n\u001b[0;32m---> 37\u001b[0;31m     \u001b[0mmy_net\u001b[0m\u001b[0;34m.\u001b[0m\u001b[0mconnect\u001b[0m\u001b[0;34m(\u001b[0m\u001b[0mi1\u001b[0m\u001b[0;34m,\u001b[0m \u001b[0;36m1\u001b[0m\u001b[0;34m,\u001b[0m \u001b[0ms1\u001b[0m\u001b[0;34m,\u001b[0m \u001b[0;36m0\u001b[0m\u001b[0;34m)\u001b[0m\u001b[0;34m\u001b[0m\u001b[0;34m\u001b[0m\u001b[0m\n\u001b[0m\u001b[1;32m     38\u001b[0m     \u001b[0mmy_net\u001b[0m\u001b[0;34m.\u001b[0m\u001b[0mconnect\u001b[0m\u001b[0;34m(\u001b[0m\u001b[0mi1\u001b[0m\u001b[0;34m,\u001b[0m \u001b[0;36m2\u001b[0m\u001b[0;34m,\u001b[0m \u001b[0mi2\u001b[0m\u001b[0;34m,\u001b[0m \u001b[0;36m0\u001b[0m\u001b[0;34m)\u001b[0m\u001b[0;34m\u001b[0m\u001b[0;34m\u001b[0m\u001b[0m\n\u001b[1;32m     39\u001b[0m     \u001b[0mmy_net\u001b[0m\u001b[0;34m.\u001b[0m\u001b[0mconnect\u001b[0m\u001b[0;34m(\u001b[0m\u001b[0mi1\u001b[0m\u001b[0;34m,\u001b[0m \u001b[0;36m3\u001b[0m\u001b[0;34m,\u001b[0m \u001b[0mi3\u001b[0m\u001b[0;34m,\u001b[0m \u001b[0;36m1\u001b[0m\u001b[0;34m)\u001b[0m\u001b[0;34m\u001b[0m\u001b[0;34m\u001b[0m\u001b[0m\n",
      "\u001b[0;32m~/Documents/GitHub/Framework-For-UDTA/miniVnet.py\u001b[0m in \u001b[0;36mconnect\u001b[0;34m(self, component_1, idx_1, component_2, idx_2)\u001b[0m\n\u001b[1;32m    109\u001b[0m \u001b[0;34m\u001b[0m\u001b[0m\n\u001b[1;32m    110\u001b[0m     \u001b[0;32mdef\u001b[0m \u001b[0mconnect\u001b[0m\u001b[0;34m(\u001b[0m\u001b[0mself\u001b[0m\u001b[0;34m,\u001b[0m \u001b[0mcomponent_1\u001b[0m\u001b[0;34m,\u001b[0m \u001b[0midx_1\u001b[0m\u001b[0;34m,\u001b[0m \u001b[0mcomponent_2\u001b[0m\u001b[0;34m,\u001b[0m \u001b[0midx_2\u001b[0m\u001b[0;34m)\u001b[0m\u001b[0;34m:\u001b[0m\u001b[0;34m\u001b[0m\u001b[0;34m\u001b[0m\u001b[0m\n\u001b[0;32m--> 111\u001b[0;31m         \u001b[0;32massert\u001b[0m \u001b[0mself\u001b[0m\u001b[0;34m.\u001b[0m\u001b[0mis_compiled\u001b[0m \u001b[0;34m==\u001b[0m \u001b[0;32mFalse\u001b[0m\u001b[0;34m,\u001b[0m \u001b[0;34m\"The miniVnet has been compiled\"\u001b[0m\u001b[0;34m\u001b[0m\u001b[0;34m\u001b[0m\u001b[0m\n\u001b[0m\u001b[1;32m    112\u001b[0m         \u001b[0;32massert\u001b[0m \u001b[0mcomponent_1\u001b[0m\u001b[0;34m.\u001b[0m\u001b[0mnum_lane\u001b[0m \u001b[0;34m==\u001b[0m \u001b[0mcomponent_2\u001b[0m\u001b[0;34m.\u001b[0m\u001b[0mnum_lane\u001b[0m\u001b[0;34m,\u001b[0m \u001b[0;34m\"Lane number mismatch: \"\u001b[0m \u001b[0;34m+\u001b[0m \u001b[0mstr\u001b[0m\u001b[0;34m(\u001b[0m\u001b[0mcomponent_1\u001b[0m\u001b[0;34m.\u001b[0m\u001b[0mname\u001b[0m\u001b[0;34m)\u001b[0m \u001b[0;34m+\u001b[0m \u001b[0;34m\" \"\u001b[0m \u001b[0;34m+\u001b[0m \u001b[0mstr\u001b[0m\u001b[0;34m(\u001b[0m\u001b[0mcomponent_2\u001b[0m\u001b[0;34m.\u001b[0m\u001b[0mname\u001b[0m\u001b[0;34m)\u001b[0m\u001b[0;34m\u001b[0m\u001b[0;34m\u001b[0m\u001b[0m\n\u001b[1;32m    113\u001b[0m \u001b[0;34m\u001b[0m\u001b[0m\n",
      "\u001b[0;31mAssertionError\u001b[0m: The miniVnet has been compiled"
     ]
    }
   ],
   "source": [
    "# Create a network as following:\n",
    "#         s1  s2\n",
    "#\n",
    "#   s8    i1  i2    s3\n",
    "#   s7    i3  i4    s4\n",
    "#\n",
    "#         s6  s5\n",
    "#\n",
    "# Index of the initersection:\n",
    "#       1\n",
    "#   0   I   2\n",
    "#       3\n",
    "#\n",
    "\n",
    "\n",
    "from miniVnet import MINIVNET\n",
    "\n",
    "\n",
    "if __name__ == '__main__':\n",
    "    my_net = MINIVNET()\n",
    "    \n",
    "    i1 = my_net.addIntersection('I1', 3)\n",
    "    i2 = my_net.addIntersection('I2', 3)\n",
    "    i3 = my_net.addIntersection('I3', 3)\n",
    "    i4 = my_net.addIntersection('I4', 3)\n",
    "    \n",
    "    s1 = my_net.addSink('S1', 3)\n",
    "    s2 = my_net.addSink('S2', 3)\n",
    "    s3 = my_net.addSink('S3', 3)\n",
    "    s4 = my_net.addSink('S4', 3)\n",
    "    s5 = my_net.addSink('S5', 3)\n",
    "    s6 = my_net.addSink('S6', 3)\n",
    "    s7 = my_net.addSink('S7', 3)\n",
    "    s8 = my_net.addSink('S8', 3)\n",
    "    \n",
    "    my_net.connect(i1, 0, s8, 0)\n",
    "    my_net.connect(i1, 1, s1, 0)\n",
    "    my_net.connect(i1, 2, i2, 0)\n",
    "    my_net.connect(i1, 3, i3, 1)\n",
    "    \n",
    "    my_net.connect(i2, 1, s2, 0)\n",
    "    my_net.connect(i2, 2, s3, 0)\n",
    "    my_net.connect(i2, 3, i4, 1)\n",
    "    \n",
    "    my_net.connect(i3, 0, s7, 0)\n",
    "    my_net.connect(i3, 2, i4, 0)\n",
    "    my_net.connect(i3, 3, s6, 0)\n",
    "    \n",
    "    my_net.connect(i4, 2, s4, 0)\n",
    "    my_net.connect(i4, 3, s5, 0)\n",
    "    \n",
    "    my_net.compile()\n",
    "vertex = []\n",
    "edge = []\n",
    "for sink in my_net.sinks:\n",
    "    for node in sink.node_groups:\n",
    "        vertex.append(node)\n",
    "for road in my_net.roads:\n",
    "    for link in road.link_groups:\n",
    "        edge.append(link)\n",
    "\n",
    "print(vertex)\n",
    "print(edge)"
   ]
  },
  {
   "cell_type": "code",
   "execution_count": null,
   "metadata": {},
   "outputs": [],
   "source": []
  }
 ],
 "metadata": {
  "kernelspec": {
   "display_name": "Python 3",
   "language": "python",
   "name": "python3"
  },
  "language_info": {
   "codemirror_mode": {
    "name": "ipython",
    "version": 3
   },
   "file_extension": ".py",
   "mimetype": "text/x-python",
   "name": "python",
   "nbconvert_exporter": "python",
   "pygments_lexer": "ipython3",
   "version": "3.7.3"
  }
 },
 "nbformat": 4,
 "nbformat_minor": 2
}
